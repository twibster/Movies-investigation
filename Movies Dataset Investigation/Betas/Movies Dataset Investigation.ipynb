{
 "cells": [
  {
   "cell_type": "markdown",
   "metadata": {},
   "source": [
    "# Investigating Movies dataset "
   ]
  },
  {
   "cell_type": "code",
   "execution_count": null,
   "metadata": {},
   "outputs": [],
   "source": [
    "#importing liberaries\n",
    "\n",
    "import pandas as pd\n",
    "import numpy as np\n",
    "import matplotlib.pyplot as plt\n",
    "import seaborn as sns\n",
    "\n",
    "%matplotlib inline"
   ]
  },
  {
   "cell_type": "markdown",
   "metadata": {},
   "source": [
    "## Data Wrangling"
   ]
  },
  {
   "cell_type": "code",
   "execution_count": 3,
   "metadata": {},
   "outputs": [],
   "source": [
    "df = pd.read_csv('tmdb-movies.csv') #reading the data"
   ]
  },
  {
   "cell_type": "code",
   "execution_count": 4,
   "metadata": {
    "collapsed": true
   },
   "outputs": [
    {
     "data": {
      "text/plain": [
       "(10866, 21)"
      ]
     },
     "execution_count": 4,
     "metadata": {},
     "output_type": "execute_result"
    }
   ],
   "source": [
    "df.shape #finding out the number of movies"
   ]
  },
  {
   "cell_type": "code",
   "execution_count": 6,
   "metadata": {
    "collapsed": true
   },
   "outputs": [
    {
     "data": {
      "text/html": [
       "<div>\n",
       "<style scoped>\n",
       "    .dataframe tbody tr th:only-of-type {\n",
       "        vertical-align: middle;\n",
       "    }\n",
       "\n",
       "    .dataframe tbody tr th {\n",
       "        vertical-align: top;\n",
       "    }\n",
       "\n",
       "    .dataframe thead th {\n",
       "        text-align: right;\n",
       "    }\n",
       "</style>\n",
       "<table border=\"1\" class=\"dataframe\">\n",
       "  <thead>\n",
       "    <tr style=\"text-align: right;\">\n",
       "      <th></th>\n",
       "      <th>id</th>\n",
       "      <th>imdb_id</th>\n",
       "      <th>popularity</th>\n",
       "      <th>budget</th>\n",
       "      <th>revenue</th>\n",
       "      <th>original_title</th>\n",
       "      <th>cast</th>\n",
       "      <th>homepage</th>\n",
       "      <th>director</th>\n",
       "      <th>tagline</th>\n",
       "      <th>...</th>\n",
       "      <th>overview</th>\n",
       "      <th>runtime</th>\n",
       "      <th>genres</th>\n",
       "      <th>production_companies</th>\n",
       "      <th>release_date</th>\n",
       "      <th>vote_count</th>\n",
       "      <th>vote_average</th>\n",
       "      <th>release_year</th>\n",
       "      <th>budget_adj</th>\n",
       "      <th>revenue_adj</th>\n",
       "    </tr>\n",
       "  </thead>\n",
       "  <tbody>\n",
       "    <tr>\n",
       "      <th>0</th>\n",
       "      <td>135397</td>\n",
       "      <td>tt0369610</td>\n",
       "      <td>32.985763</td>\n",
       "      <td>150000000</td>\n",
       "      <td>1513528810</td>\n",
       "      <td>Jurassic World</td>\n",
       "      <td>Chris Pratt|Bryce Dallas Howard|Irrfan Khan|Vi...</td>\n",
       "      <td>http://www.jurassicworld.com/</td>\n",
       "      <td>Colin Trevorrow</td>\n",
       "      <td>The park is open.</td>\n",
       "      <td>...</td>\n",
       "      <td>Twenty-two years after the events of Jurassic ...</td>\n",
       "      <td>124</td>\n",
       "      <td>Action|Adventure|Science Fiction|Thriller</td>\n",
       "      <td>Universal Studios|Amblin Entertainment|Legenda...</td>\n",
       "      <td>6/9/15</td>\n",
       "      <td>5562</td>\n",
       "      <td>6.5</td>\n",
       "      <td>2015</td>\n",
       "      <td>1.379999e+08</td>\n",
       "      <td>1.392446e+09</td>\n",
       "    </tr>\n",
       "  </tbody>\n",
       "</table>\n",
       "<p>1 rows × 21 columns</p>\n",
       "</div>"
      ],
      "text/plain": [
       "       id    imdb_id  popularity     budget     revenue  original_title  \\\n",
       "0  135397  tt0369610   32.985763  150000000  1513528810  Jurassic World   \n",
       "\n",
       "                                                cast  \\\n",
       "0  Chris Pratt|Bryce Dallas Howard|Irrfan Khan|Vi...   \n",
       "\n",
       "                        homepage         director            tagline  ...  \\\n",
       "0  http://www.jurassicworld.com/  Colin Trevorrow  The park is open.  ...   \n",
       "\n",
       "                                            overview runtime  \\\n",
       "0  Twenty-two years after the events of Jurassic ...     124   \n",
       "\n",
       "                                      genres  \\\n",
       "0  Action|Adventure|Science Fiction|Thriller   \n",
       "\n",
       "                                production_companies release_date vote_count  \\\n",
       "0  Universal Studios|Amblin Entertainment|Legenda...       6/9/15       5562   \n",
       "\n",
       "   vote_average  release_year    budget_adj   revenue_adj  \n",
       "0           6.5          2015  1.379999e+08  1.392446e+09  \n",
       "\n",
       "[1 rows x 21 columns]"
      ]
     },
     "execution_count": 6,
     "metadata": {},
     "output_type": "execute_result"
    }
   ],
   "source": [
    "df.head(1) # genral look at the data"
   ]
  },
  {
   "cell_type": "code",
   "execution_count": 9,
   "metadata": {
    "collapsed": true
   },
   "outputs": [
    {
     "data": {
      "text/plain": [
       "id                      False\n",
       "imdb_id                  True\n",
       "popularity              False\n",
       "budget                  False\n",
       "revenue                 False\n",
       "original_title          False\n",
       "cast                     True\n",
       "homepage                 True\n",
       "director                 True\n",
       "tagline                  True\n",
       "keywords                 True\n",
       "overview                 True\n",
       "runtime                 False\n",
       "genres                   True\n",
       "production_companies     True\n",
       "release_date            False\n",
       "vote_count              False\n",
       "vote_average            False\n",
       "release_year            False\n",
       "budget_adj              False\n",
       "revenue_adj             False\n",
       "dtype: bool"
      ]
     },
     "execution_count": 9,
     "metadata": {},
     "output_type": "execute_result"
    }
   ],
   "source": [
    "df.isna().any() #looking for missing values"
   ]
  },
  {
   "cell_type": "markdown",
   "metadata": {},
   "source": [
    "The dataset does have some missing values"
   ]
  },
  {
   "cell_type": "code",
   "execution_count": 10,
   "metadata": {
    "collapsed": true
   },
   "outputs": [
    {
     "data": {
      "text/html": [
       "<div>\n",
       "<style scoped>\n",
       "    .dataframe tbody tr th:only-of-type {\n",
       "        vertical-align: middle;\n",
       "    }\n",
       "\n",
       "    .dataframe tbody tr th {\n",
       "        vertical-align: top;\n",
       "    }\n",
       "\n",
       "    .dataframe thead th {\n",
       "        text-align: right;\n",
       "    }\n",
       "</style>\n",
       "<table border=\"1\" class=\"dataframe\">\n",
       "  <thead>\n",
       "    <tr style=\"text-align: right;\">\n",
       "      <th></th>\n",
       "      <th>id</th>\n",
       "      <th>popularity</th>\n",
       "      <th>budget</th>\n",
       "      <th>revenue</th>\n",
       "      <th>runtime</th>\n",
       "      <th>vote_count</th>\n",
       "      <th>vote_average</th>\n",
       "      <th>release_year</th>\n",
       "      <th>budget_adj</th>\n",
       "      <th>revenue_adj</th>\n",
       "    </tr>\n",
       "  </thead>\n",
       "  <tbody>\n",
       "    <tr>\n",
       "      <th>count</th>\n",
       "      <td>10866.000000</td>\n",
       "      <td>10866.000000</td>\n",
       "      <td>1.086600e+04</td>\n",
       "      <td>1.086600e+04</td>\n",
       "      <td>10866.000000</td>\n",
       "      <td>10866.000000</td>\n",
       "      <td>10866.000000</td>\n",
       "      <td>10866.000000</td>\n",
       "      <td>1.086600e+04</td>\n",
       "      <td>1.086600e+04</td>\n",
       "    </tr>\n",
       "    <tr>\n",
       "      <th>mean</th>\n",
       "      <td>66064.177434</td>\n",
       "      <td>0.646441</td>\n",
       "      <td>1.462570e+07</td>\n",
       "      <td>3.982332e+07</td>\n",
       "      <td>102.070863</td>\n",
       "      <td>217.389748</td>\n",
       "      <td>5.974922</td>\n",
       "      <td>2001.322658</td>\n",
       "      <td>1.755104e+07</td>\n",
       "      <td>5.136436e+07</td>\n",
       "    </tr>\n",
       "    <tr>\n",
       "      <th>std</th>\n",
       "      <td>92130.136561</td>\n",
       "      <td>1.000185</td>\n",
       "      <td>3.091321e+07</td>\n",
       "      <td>1.170035e+08</td>\n",
       "      <td>31.381405</td>\n",
       "      <td>575.619058</td>\n",
       "      <td>0.935142</td>\n",
       "      <td>12.812941</td>\n",
       "      <td>3.430616e+07</td>\n",
       "      <td>1.446325e+08</td>\n",
       "    </tr>\n",
       "    <tr>\n",
       "      <th>min</th>\n",
       "      <td>5.000000</td>\n",
       "      <td>0.000065</td>\n",
       "      <td>0.000000e+00</td>\n",
       "      <td>0.000000e+00</td>\n",
       "      <td>0.000000</td>\n",
       "      <td>10.000000</td>\n",
       "      <td>1.500000</td>\n",
       "      <td>1960.000000</td>\n",
       "      <td>0.000000e+00</td>\n",
       "      <td>0.000000e+00</td>\n",
       "    </tr>\n",
       "    <tr>\n",
       "      <th>25%</th>\n",
       "      <td>10596.250000</td>\n",
       "      <td>0.207583</td>\n",
       "      <td>0.000000e+00</td>\n",
       "      <td>0.000000e+00</td>\n",
       "      <td>90.000000</td>\n",
       "      <td>17.000000</td>\n",
       "      <td>5.400000</td>\n",
       "      <td>1995.000000</td>\n",
       "      <td>0.000000e+00</td>\n",
       "      <td>0.000000e+00</td>\n",
       "    </tr>\n",
       "    <tr>\n",
       "      <th>50%</th>\n",
       "      <td>20669.000000</td>\n",
       "      <td>0.383856</td>\n",
       "      <td>0.000000e+00</td>\n",
       "      <td>0.000000e+00</td>\n",
       "      <td>99.000000</td>\n",
       "      <td>38.000000</td>\n",
       "      <td>6.000000</td>\n",
       "      <td>2006.000000</td>\n",
       "      <td>0.000000e+00</td>\n",
       "      <td>0.000000e+00</td>\n",
       "    </tr>\n",
       "    <tr>\n",
       "      <th>75%</th>\n",
       "      <td>75610.000000</td>\n",
       "      <td>0.713817</td>\n",
       "      <td>1.500000e+07</td>\n",
       "      <td>2.400000e+07</td>\n",
       "      <td>111.000000</td>\n",
       "      <td>145.750000</td>\n",
       "      <td>6.600000</td>\n",
       "      <td>2011.000000</td>\n",
       "      <td>2.085325e+07</td>\n",
       "      <td>3.369710e+07</td>\n",
       "    </tr>\n",
       "    <tr>\n",
       "      <th>max</th>\n",
       "      <td>417859.000000</td>\n",
       "      <td>32.985763</td>\n",
       "      <td>4.250000e+08</td>\n",
       "      <td>2.781506e+09</td>\n",
       "      <td>900.000000</td>\n",
       "      <td>9767.000000</td>\n",
       "      <td>9.200000</td>\n",
       "      <td>2015.000000</td>\n",
       "      <td>4.250000e+08</td>\n",
       "      <td>2.827124e+09</td>\n",
       "    </tr>\n",
       "  </tbody>\n",
       "</table>\n",
       "</div>"
      ],
      "text/plain": [
       "                  id    popularity        budget       revenue       runtime  \\\n",
       "count   10866.000000  10866.000000  1.086600e+04  1.086600e+04  10866.000000   \n",
       "mean    66064.177434      0.646441  1.462570e+07  3.982332e+07    102.070863   \n",
       "std     92130.136561      1.000185  3.091321e+07  1.170035e+08     31.381405   \n",
       "min         5.000000      0.000065  0.000000e+00  0.000000e+00      0.000000   \n",
       "25%     10596.250000      0.207583  0.000000e+00  0.000000e+00     90.000000   \n",
       "50%     20669.000000      0.383856  0.000000e+00  0.000000e+00     99.000000   \n",
       "75%     75610.000000      0.713817  1.500000e+07  2.400000e+07    111.000000   \n",
       "max    417859.000000     32.985763  4.250000e+08  2.781506e+09    900.000000   \n",
       "\n",
       "         vote_count  vote_average  release_year    budget_adj   revenue_adj  \n",
       "count  10866.000000  10866.000000  10866.000000  1.086600e+04  1.086600e+04  \n",
       "mean     217.389748      5.974922   2001.322658  1.755104e+07  5.136436e+07  \n",
       "std      575.619058      0.935142     12.812941  3.430616e+07  1.446325e+08  \n",
       "min       10.000000      1.500000   1960.000000  0.000000e+00  0.000000e+00  \n",
       "25%       17.000000      5.400000   1995.000000  0.000000e+00  0.000000e+00  \n",
       "50%       38.000000      6.000000   2006.000000  0.000000e+00  0.000000e+00  \n",
       "75%      145.750000      6.600000   2011.000000  2.085325e+07  3.369710e+07  \n",
       "max     9767.000000      9.200000   2015.000000  4.250000e+08  2.827124e+09  "
      ]
     },
     "execution_count": 10,
     "metadata": {},
     "output_type": "execute_result"
    }
   ],
   "source": [
    "df.describe() #general look at the statistics of the data"
   ]
  },
  {
   "cell_type": "markdown",
   "metadata": {},
   "source": [
    "## Data Cleaning"
   ]
  },
  {
   "cell_type": "code",
   "execution_count": 16,
   "metadata": {},
   "outputs": [],
   "source": [
    "# cleaning the data\n",
    "df.dropna(inplace = True) #removing missing values\n",
    "df.drop_duplicates(inplace = True) #removing duplicated values"
   ]
  },
  {
   "cell_type": "code",
   "execution_count": 21,
   "metadata": {},
   "outputs": [],
   "source": [
    "#dropping not needed columns\n",
    "df.drop(labels = ['id','imdb_id','homepage','tagline','overview'],axis = 1 ,inplace = True)"
   ]
  },
  {
   "cell_type": "markdown",
   "metadata": {},
   "source": [
    "## Exploration of the data"
   ]
  },
  {
   "cell_type": "code",
   "execution_count": 25,
   "metadata": {},
   "outputs": [],
   "source": [
    "# highest revenue movies\n",
    "mean_rev = df.revenue.mean() #getting the mean value of the revenues\n",
    "highest_rev_movies= df[df['revenue']> mean_rev].sort_values(by = ['revenue'], ascending = False) #getting the values higher than the mean\n",
    "highest_rev_movies"
   ]
  },
  {
   "cell_type": "markdown",
   "metadata": {},
   "source": [
    "### What is the most popular genre type ?"
   ]
  },
  {
   "cell_type": "code",
   "execution_count": null,
   "metadata": {},
   "outputs": [],
   "source": [
    "# finding the most popular genre types\n",
    "df.genres.value_counts()"
   ]
  },
  {
   "cell_type": "markdown",
   "metadata": {},
   "source": [
    "Drama is the most popular genre type"
   ]
  },
  {
   "cell_type": "markdown",
   "metadata": {},
   "source": [
    "### What are the top 5 popular movies in the 20th century ?"
   ]
  },
  {
   "cell_type": "code",
   "execution_count": 113,
   "metadata": {},
   "outputs": [
    {
     "data": {
      "text/html": [
       "<div>\n",
       "<style scoped>\n",
       "    .dataframe tbody tr th:only-of-type {\n",
       "        vertical-align: middle;\n",
       "    }\n",
       "\n",
       "    .dataframe tbody tr th {\n",
       "        vertical-align: top;\n",
       "    }\n",
       "\n",
       "    .dataframe thead th {\n",
       "        text-align: right;\n",
       "    }\n",
       "</style>\n",
       "<table border=\"1\" class=\"dataframe\">\n",
       "  <thead>\n",
       "    <tr style=\"text-align: right;\">\n",
       "      <th></th>\n",
       "      <th>popularity</th>\n",
       "      <th>budget</th>\n",
       "      <th>revenue</th>\n",
       "      <th>original_title</th>\n",
       "      <th>cast</th>\n",
       "      <th>director</th>\n",
       "      <th>keywords</th>\n",
       "      <th>runtime</th>\n",
       "      <th>genres</th>\n",
       "      <th>production_companies</th>\n",
       "      <th>release_date</th>\n",
       "      <th>vote_count</th>\n",
       "      <th>vote_average</th>\n",
       "      <th>release_year</th>\n",
       "      <th>budget_adj</th>\n",
       "      <th>revenue_adj</th>\n",
       "    </tr>\n",
       "  </thead>\n",
       "  <tbody>\n",
       "    <tr>\n",
       "      <th>0</th>\n",
       "      <td>32.985763</td>\n",
       "      <td>150000000</td>\n",
       "      <td>1513528810</td>\n",
       "      <td>Jurassic World</td>\n",
       "      <td>Chris Pratt|Bryce Dallas Howard|Irrfan Khan|Vi...</td>\n",
       "      <td>Colin Trevorrow</td>\n",
       "      <td>monster|dna|tyrannosaurus rex|velociraptor|island</td>\n",
       "      <td>124</td>\n",
       "      <td>Action|Adventure|Science Fiction|Thriller</td>\n",
       "      <td>Universal Studios|Amblin Entertainment|Legenda...</td>\n",
       "      <td>6/9/15</td>\n",
       "      <td>5562</td>\n",
       "      <td>6.5</td>\n",
       "      <td>2015</td>\n",
       "      <td>1.379999e+08</td>\n",
       "      <td>1.392446e+09</td>\n",
       "    </tr>\n",
       "    <tr>\n",
       "      <th>1</th>\n",
       "      <td>28.419936</td>\n",
       "      <td>150000000</td>\n",
       "      <td>378436354</td>\n",
       "      <td>Mad Max: Fury Road</td>\n",
       "      <td>Tom Hardy|Charlize Theron|Hugh Keays-Byrne|Nic...</td>\n",
       "      <td>George Miller</td>\n",
       "      <td>future|chase|post-apocalyptic|dystopia|australia</td>\n",
       "      <td>120</td>\n",
       "      <td>Action|Adventure|Science Fiction|Thriller</td>\n",
       "      <td>Village Roadshow Pictures|Kennedy Miller Produ...</td>\n",
       "      <td>5/13/15</td>\n",
       "      <td>6185</td>\n",
       "      <td>7.1</td>\n",
       "      <td>2015</td>\n",
       "      <td>1.379999e+08</td>\n",
       "      <td>3.481613e+08</td>\n",
       "    </tr>\n",
       "    <tr>\n",
       "      <th>629</th>\n",
       "      <td>24.949134</td>\n",
       "      <td>165000000</td>\n",
       "      <td>621752480</td>\n",
       "      <td>Interstellar</td>\n",
       "      <td>Matthew McConaughey|Jessica Chastain|Anne Hath...</td>\n",
       "      <td>Christopher Nolan</td>\n",
       "      <td>saving the world|artificial intelligence|fathe...</td>\n",
       "      <td>169</td>\n",
       "      <td>Adventure|Drama|Science Fiction</td>\n",
       "      <td>Paramount Pictures|Legendary Pictures|Warner B...</td>\n",
       "      <td>11/5/14</td>\n",
       "      <td>6498</td>\n",
       "      <td>8.0</td>\n",
       "      <td>2014</td>\n",
       "      <td>1.519800e+08</td>\n",
       "      <td>5.726906e+08</td>\n",
       "    </tr>\n",
       "    <tr>\n",
       "      <th>630</th>\n",
       "      <td>14.311205</td>\n",
       "      <td>170000000</td>\n",
       "      <td>773312399</td>\n",
       "      <td>Guardians of the Galaxy</td>\n",
       "      <td>Chris Pratt|Zoe Saldana|Dave Bautista|Vin Dies...</td>\n",
       "      <td>James Gunn</td>\n",
       "      <td>marvel comic|spaceship|space|scene during end ...</td>\n",
       "      <td>121</td>\n",
       "      <td>Action|Science Fiction|Adventure</td>\n",
       "      <td>Marvel Studios|Moving Picture Company (MPC)|Bu...</td>\n",
       "      <td>7/30/14</td>\n",
       "      <td>5612</td>\n",
       "      <td>7.9</td>\n",
       "      <td>2014</td>\n",
       "      <td>1.565855e+08</td>\n",
       "      <td>7.122911e+08</td>\n",
       "    </tr>\n",
       "    <tr>\n",
       "      <th>2</th>\n",
       "      <td>13.112507</td>\n",
       "      <td>110000000</td>\n",
       "      <td>295238201</td>\n",
       "      <td>Insurgent</td>\n",
       "      <td>Shailene Woodley|Theo James|Kate Winslet|Ansel...</td>\n",
       "      <td>Robert Schwentke</td>\n",
       "      <td>based on novel|revolution|dystopia|sequel|dyst...</td>\n",
       "      <td>119</td>\n",
       "      <td>Adventure|Science Fiction|Thriller</td>\n",
       "      <td>Summit Entertainment|Mandeville Films|Red Wago...</td>\n",
       "      <td>3/18/15</td>\n",
       "      <td>2480</td>\n",
       "      <td>6.3</td>\n",
       "      <td>2015</td>\n",
       "      <td>1.012000e+08</td>\n",
       "      <td>2.716190e+08</td>\n",
       "    </tr>\n",
       "  </tbody>\n",
       "</table>\n",
       "</div>"
      ],
      "text/plain": [
       "     popularity     budget     revenue           original_title  \\\n",
       "0     32.985763  150000000  1513528810           Jurassic World   \n",
       "1     28.419936  150000000   378436354       Mad Max: Fury Road   \n",
       "629   24.949134  165000000   621752480             Interstellar   \n",
       "630   14.311205  170000000   773312399  Guardians of the Galaxy   \n",
       "2     13.112507  110000000   295238201                Insurgent   \n",
       "\n",
       "                                                  cast           director  \\\n",
       "0    Chris Pratt|Bryce Dallas Howard|Irrfan Khan|Vi...    Colin Trevorrow   \n",
       "1    Tom Hardy|Charlize Theron|Hugh Keays-Byrne|Nic...      George Miller   \n",
       "629  Matthew McConaughey|Jessica Chastain|Anne Hath...  Christopher Nolan   \n",
       "630  Chris Pratt|Zoe Saldana|Dave Bautista|Vin Dies...         James Gunn   \n",
       "2    Shailene Woodley|Theo James|Kate Winslet|Ansel...   Robert Schwentke   \n",
       "\n",
       "                                              keywords  runtime  \\\n",
       "0    monster|dna|tyrannosaurus rex|velociraptor|island      124   \n",
       "1     future|chase|post-apocalyptic|dystopia|australia      120   \n",
       "629  saving the world|artificial intelligence|fathe...      169   \n",
       "630  marvel comic|spaceship|space|scene during end ...      121   \n",
       "2    based on novel|revolution|dystopia|sequel|dyst...      119   \n",
       "\n",
       "                                        genres  \\\n",
       "0    Action|Adventure|Science Fiction|Thriller   \n",
       "1    Action|Adventure|Science Fiction|Thriller   \n",
       "629            Adventure|Drama|Science Fiction   \n",
       "630           Action|Science Fiction|Adventure   \n",
       "2           Adventure|Science Fiction|Thriller   \n",
       "\n",
       "                                  production_companies release_date  \\\n",
       "0    Universal Studios|Amblin Entertainment|Legenda...       6/9/15   \n",
       "1    Village Roadshow Pictures|Kennedy Miller Produ...      5/13/15   \n",
       "629  Paramount Pictures|Legendary Pictures|Warner B...      11/5/14   \n",
       "630  Marvel Studios|Moving Picture Company (MPC)|Bu...      7/30/14   \n",
       "2    Summit Entertainment|Mandeville Films|Red Wago...      3/18/15   \n",
       "\n",
       "     vote_count  vote_average  release_year    budget_adj   revenue_adj  \n",
       "0          5562           6.5          2015  1.379999e+08  1.392446e+09  \n",
       "1          6185           7.1          2015  1.379999e+08  3.481613e+08  \n",
       "629        6498           8.0          2014  1.519800e+08  5.726906e+08  \n",
       "630        5612           7.9          2014  1.565855e+08  7.122911e+08  \n",
       "2          2480           6.3          2015  1.012000e+08  2.716190e+08  "
      ]
     },
     "execution_count": 113,
     "metadata": {},
     "output_type": "execute_result"
    }
   ],
   "source": [
    "# top 5 popular movies in 20th century\n",
    "pop_20th  = df.query('release_year > 2000') # getting movies that were released after 2000\n",
    "pop_20th_sorted = pop_20th.sort_values(by = ['popularity'],ascending = False) #sorting the movies by popularity\n",
    "pop_20th_sorted.head(5)"
   ]
  },
  {
   "cell_type": "markdown",
   "metadata": {},
   "source": [
    "### What is the most popular movie for the director who produced the movie with the highest revenue?"
   ]
  },
  {
   "cell_type": "code",
   "execution_count": 112,
   "metadata": {},
   "outputs": [
    {
     "name": "stdout",
     "output_type": "stream",
     "text": [
      "Avatar is the most popular movie produced by James Cameron\n"
     ]
    }
   ],
   "source": [
    "# most popular movie for the director with highest revenue\n",
    "highest_revenue = df[df['revenue'] == df.revenue.max()] # getting the movies with the highest revenue\n",
    "richest_director = highest_revenue.director.tolist()[0] # getting the name of the director of that movies\n",
    "movies = df[df['director'] == richest_director] # getting the movies of that director\n",
    "movie = df.query('popularity == @movies.popularity.max()').original_title.tolist()[0] #getting the most popular movie for that director\n",
    "print('{} is the most popular movie produced by {}'.format(movie,richest_director))"
   ]
  },
  {
   "cell_type": "markdown",
   "metadata": {},
   "source": [
    "### What are the top 5 movies that made no profit?"
   ]
  },
  {
   "cell_type": "code",
   "execution_count": 116,
   "metadata": {},
   "outputs": [
    {
     "data": {
      "text/html": [
       "<div>\n",
       "<style scoped>\n",
       "    .dataframe tbody tr th:only-of-type {\n",
       "        vertical-align: middle;\n",
       "    }\n",
       "\n",
       "    .dataframe tbody tr th {\n",
       "        vertical-align: top;\n",
       "    }\n",
       "\n",
       "    .dataframe thead th {\n",
       "        text-align: right;\n",
       "    }\n",
       "</style>\n",
       "<table border=\"1\" class=\"dataframe\">\n",
       "  <thead>\n",
       "    <tr style=\"text-align: right;\">\n",
       "      <th></th>\n",
       "      <th>popularity</th>\n",
       "      <th>budget</th>\n",
       "      <th>revenue</th>\n",
       "      <th>original_title</th>\n",
       "      <th>cast</th>\n",
       "      <th>director</th>\n",
       "      <th>keywords</th>\n",
       "      <th>runtime</th>\n",
       "      <th>genres</th>\n",
       "      <th>production_companies</th>\n",
       "      <th>release_date</th>\n",
       "      <th>vote_count</th>\n",
       "      <th>vote_average</th>\n",
       "      <th>release_year</th>\n",
       "      <th>budget_adj</th>\n",
       "      <th>revenue_adj</th>\n",
       "      <th>profit</th>\n",
       "    </tr>\n",
       "  </thead>\n",
       "  <tbody>\n",
       "    <tr>\n",
       "      <th>2244</th>\n",
       "      <td>0.250540</td>\n",
       "      <td>425000000</td>\n",
       "      <td>11087569</td>\n",
       "      <td>The Warrior's Way</td>\n",
       "      <td>Kate Bosworth|Jang Dong-gun|Geoffrey Rush|Dann...</td>\n",
       "      <td>Sngmoo Lee</td>\n",
       "      <td>assassin|small town|revenge|deception|super speed</td>\n",
       "      <td>100</td>\n",
       "      <td>Adventure|Fantasy|Action|Western|Thriller</td>\n",
       "      <td>Boram Entertainment Inc.</td>\n",
       "      <td>12/2/10</td>\n",
       "      <td>74</td>\n",
       "      <td>6.4</td>\n",
       "      <td>2010</td>\n",
       "      <td>4.250000e+08</td>\n",
       "      <td>1.108757e+07</td>\n",
       "      <td>-413912431</td>\n",
       "    </tr>\n",
       "    <tr>\n",
       "      <th>5508</th>\n",
       "      <td>1.214510</td>\n",
       "      <td>255000000</td>\n",
       "      <td>89289910</td>\n",
       "      <td>The Lone Ranger</td>\n",
       "      <td>Johnny Depp|Armie Hammer|William Fichtner|Hele...</td>\n",
       "      <td>Gore Verbinski</td>\n",
       "      <td>texas|horse|survivor|texas ranger|partner</td>\n",
       "      <td>149</td>\n",
       "      <td>Action|Adventure|Western</td>\n",
       "      <td>Walt Disney Pictures|Jerry Bruckheimer Films|I...</td>\n",
       "      <td>7/3/13</td>\n",
       "      <td>1607</td>\n",
       "      <td>6.0</td>\n",
       "      <td>2013</td>\n",
       "      <td>2.386885e+08</td>\n",
       "      <td>8.357833e+07</td>\n",
       "      <td>-165710090</td>\n",
       "    </tr>\n",
       "    <tr>\n",
       "      <th>3484</th>\n",
       "      <td>0.921653</td>\n",
       "      <td>150000000</td>\n",
       "      <td>38992758</td>\n",
       "      <td>Mars Needs Moms</td>\n",
       "      <td>Seth Green|Joan Cusack|Dan Fogler|Breckin Meye...</td>\n",
       "      <td>Simon Wells</td>\n",
       "      <td>boy|alien|rescue|martian|alien abduction</td>\n",
       "      <td>88</td>\n",
       "      <td>Adventure|Animation|Family</td>\n",
       "      <td>Walt Disney Animation Studios</td>\n",
       "      <td>3/9/11</td>\n",
       "      <td>129</td>\n",
       "      <td>5.5</td>\n",
       "      <td>2011</td>\n",
       "      <td>1.454097e+08</td>\n",
       "      <td>3.779950e+07</td>\n",
       "      <td>-111007242</td>\n",
       "    </tr>\n",
       "    <tr>\n",
       "      <th>6590</th>\n",
       "      <td>1.390297</td>\n",
       "      <td>149000000</td>\n",
       "      <td>64459316</td>\n",
       "      <td>Flushed Away</td>\n",
       "      <td>Hugh Jackman|Kate Winslet|Ian McKellen|Jean Re...</td>\n",
       "      <td>David Bowers|Sam Fell</td>\n",
       "      <td>london|underworld|return|ship|frog</td>\n",
       "      <td>85</td>\n",
       "      <td>Adventure|Animation|Comedy|Family</td>\n",
       "      <td>Aardman Animations|DreamWorks Animation</td>\n",
       "      <td>10/22/06</td>\n",
       "      <td>488</td>\n",
       "      <td>6.0</td>\n",
       "      <td>2006</td>\n",
       "      <td>1.611687e+08</td>\n",
       "      <td>6.972365e+07</td>\n",
       "      <td>-84540684</td>\n",
       "    </tr>\n",
       "    <tr>\n",
       "      <th>6309</th>\n",
       "      <td>0.626900</td>\n",
       "      <td>80000000</td>\n",
       "      <td>5989640</td>\n",
       "      <td>A Sound of Thunder</td>\n",
       "      <td>Heike Makatsch|Armin Rohde|David Oyelowo|Wilfr...</td>\n",
       "      <td>Peter Hyams</td>\n",
       "      <td>dying and death|time travel|romance|dinosaur</td>\n",
       "      <td>110</td>\n",
       "      <td>Thriller|Science Fiction|Adventure|Action</td>\n",
       "      <td>Epsilon Motion Pictures|Franchise Pictures|Bal...</td>\n",
       "      <td>5/15/05</td>\n",
       "      <td>58</td>\n",
       "      <td>4.8</td>\n",
       "      <td>2005</td>\n",
       "      <td>8.932506e+07</td>\n",
       "      <td>6.687812e+06</td>\n",
       "      <td>-74010360</td>\n",
       "    </tr>\n",
       "  </tbody>\n",
       "</table>\n",
       "</div>"
      ],
      "text/plain": [
       "      popularity     budget   revenue      original_title  \\\n",
       "2244    0.250540  425000000  11087569   The Warrior's Way   \n",
       "5508    1.214510  255000000  89289910     The Lone Ranger   \n",
       "3484    0.921653  150000000  38992758     Mars Needs Moms   \n",
       "6590    1.390297  149000000  64459316        Flushed Away   \n",
       "6309    0.626900   80000000   5989640  A Sound of Thunder   \n",
       "\n",
       "                                                   cast  \\\n",
       "2244  Kate Bosworth|Jang Dong-gun|Geoffrey Rush|Dann...   \n",
       "5508  Johnny Depp|Armie Hammer|William Fichtner|Hele...   \n",
       "3484  Seth Green|Joan Cusack|Dan Fogler|Breckin Meye...   \n",
       "6590  Hugh Jackman|Kate Winslet|Ian McKellen|Jean Re...   \n",
       "6309  Heike Makatsch|Armin Rohde|David Oyelowo|Wilfr...   \n",
       "\n",
       "                   director  \\\n",
       "2244             Sngmoo Lee   \n",
       "5508         Gore Verbinski   \n",
       "3484            Simon Wells   \n",
       "6590  David Bowers|Sam Fell   \n",
       "6309            Peter Hyams   \n",
       "\n",
       "                                               keywords  runtime  \\\n",
       "2244  assassin|small town|revenge|deception|super speed      100   \n",
       "5508          texas|horse|survivor|texas ranger|partner      149   \n",
       "3484           boy|alien|rescue|martian|alien abduction       88   \n",
       "6590                 london|underworld|return|ship|frog       85   \n",
       "6309       dying and death|time travel|romance|dinosaur      110   \n",
       "\n",
       "                                         genres  \\\n",
       "2244  Adventure|Fantasy|Action|Western|Thriller   \n",
       "5508                   Action|Adventure|Western   \n",
       "3484                 Adventure|Animation|Family   \n",
       "6590          Adventure|Animation|Comedy|Family   \n",
       "6309  Thriller|Science Fiction|Adventure|Action   \n",
       "\n",
       "                                   production_companies release_date  \\\n",
       "2244                           Boram Entertainment Inc.      12/2/10   \n",
       "5508  Walt Disney Pictures|Jerry Bruckheimer Films|I...       7/3/13   \n",
       "3484                      Walt Disney Animation Studios       3/9/11   \n",
       "6590            Aardman Animations|DreamWorks Animation     10/22/06   \n",
       "6309  Epsilon Motion Pictures|Franchise Pictures|Bal...      5/15/05   \n",
       "\n",
       "      vote_count  vote_average  release_year    budget_adj   revenue_adj  \\\n",
       "2244          74           6.4          2010  4.250000e+08  1.108757e+07   \n",
       "5508        1607           6.0          2013  2.386885e+08  8.357833e+07   \n",
       "3484         129           5.5          2011  1.454097e+08  3.779950e+07   \n",
       "6590         488           6.0          2006  1.611687e+08  6.972365e+07   \n",
       "6309          58           4.8          2005  8.932506e+07  6.687812e+06   \n",
       "\n",
       "         profit  \n",
       "2244 -413912431  \n",
       "5508 -165710090  \n",
       "3484 -111007242  \n",
       "6590  -84540684  \n",
       "6309  -74010360  "
      ]
     },
     "execution_count": 116,
     "metadata": {},
     "output_type": "execute_result"
    }
   ],
   "source": [
    "# finding movies which didn't make money\n",
    "no_zero_budget_df = df.query('budget !=0' and 'revenue != 0') # not including missing values from budget and revenue\n",
    "no_zero_budget_df['profit'] = no_zero_budget_df['revenue']- no_zero_budget_df['budget'] #calculating profit\n",
    "no_zero_budget_df.sort_values(by = [\"profit\"], inplace = True) # sorint by profit\n",
    "no_profit = no_zero_budget_df.query('profit < 0') #getting negative values\n",
    "big_profit = no_zero_budget_df.query('profit > 0') #getting positive values\n",
    "no_profit.head()"
   ]
  },
  {
   "cell_type": "markdown",
   "metadata": {},
   "source": [
    "## Graphical representation of the data"
   ]
  },
  {
   "cell_type": "code",
   "execution_count": 63,
   "metadata": {},
   "outputs": [
    {
     "data": {
      "image/png": "[encoded data removed]",
      "text/plain": [
       "<Figure size 1080x1080 with 9 Axes>"
      ]
     },
     "metadata": {
      "needs_background": "light"
     },
     "output_type": "display_data"
    }
   ],
   "source": [
    "# general look at the graphs of the data\n",
    "df.hist(figsize = (15,15));"
   ]
  },
  {
   "cell_type": "markdown",
   "metadata": {},
   "source": [
    "As we can see, It is clear that the production of movies increased dramatically in the last two decades and about 90% of the movies fall between the runtime of about 90 and 150 minutes"
   ]
  },
  {
   "cell_type": "markdown",
   "metadata": {},
   "source": [
    "## Comparison between successful movies and unsuccessful ones"
   ]
  },
  {
   "cell_type": "code",
   "execution_count": 106,
   "metadata": {},
   "outputs": [
    {
     "data": {
      "image/png": "[encoded data removed]",
      "text/plain": [
       "<Figure size 360x360 with 1 Axes>"
      ]
     },
     "metadata": {
      "needs_background": "light"
     },
     "output_type": "display_data"
    }
   ],
   "source": [
    "# Comparing the popularity of the movies\n",
    "plt.figure(figsize = (5,5));\n",
    "big_profit.popularity.hist(alpha =0.5 ,label =\"profit\");\n",
    "no_profit.popularity.hist(alpha = 0.5,label= 'no profit');\n",
    "plt.title('Popularity Comparison');\n",
    "plt.legend();"
   ]
  },
  {
   "cell_type": "markdown",
   "metadata": {},
   "source": [
    "By taking a look at the gragh here, we start to realize how differecnt successful movies(A) were, compared to their counter ones(B):\n",
    "The popularity of (A) ranges from 1 to 14 with a significant amount of them ranging from 4 to 7, meanwhile (B) ranges from 0 to 3 with the majority of them below 1.\n"
   ]
  },
  {
   "cell_type": "code",
   "execution_count": 107,
   "metadata": {},
   "outputs": [
    {
     "data": {
      "image/png": "[encoded data removed]",
      "text/plain": [
       "<Figure size 360x360 with 1 Axes>"
      ]
     },
     "metadata": {
      "needs_background": "light"
     },
     "output_type": "display_data"
    }
   ],
   "source": [
    "# Comparing the budget of the movies\n",
    "plt.figure(figsize = (5,5));\n",
    "big_profit.budget.hist(alpha =0.5 ,label =\"profit\");\n",
    "no_profit.budget.hist(alpha = 0.5,label= 'no profit');\n",
    "plt.title('Budget Comparison');\n",
    "plt.legend();"
   ]
  },
  {
   "cell_type": "markdown",
   "metadata": {},
   "source": [
    "We can see that generally speaking successful movies tend to have higher budgets."
   ]
  },
  {
   "cell_type": "code",
   "execution_count": 108,
   "metadata": {},
   "outputs": [
    {
     "data": {
      "image/png": "[encoded data removed]",
      "text/plain": [
       "<Figure size 360x360 with 1 Axes>"
      ]
     },
     "metadata": {
      "needs_background": "light"
     },
     "output_type": "display_data"
    }
   ],
   "source": [
    "# Comparing the year the movie was released\n",
    "plt.figure(figsize = (5,5));\n",
    "big_profit.release_year.hist(alpha =0.5 ,label =\"profit\");\n",
    "no_profit.release_year.hist(alpha = 0.5,label= 'no profit');\n",
    "plt.title('Release Year Comparison');\n",
    "plt.legend();"
   ]
  },
  {
   "cell_type": "markdown",
   "metadata": {},
   "source": [
    "We can conclude that movies released in the last century have higher chances of being successful than movies of the current century"
   ]
  },
  {
   "cell_type": "code",
   "execution_count": 109,
   "metadata": {},
   "outputs": [
    {
     "name": "stdout",
     "output_type": "stream",
     "text": [
      "110.59864521591871 105.29056603773584\n"
     ]
    },
    {
     "data": {
      "image/png": "[encoded data removed]",
      "text/plain": [
       "<Figure size 360x360 with 1 Axes>"
      ]
     },
     "metadata": {
      "needs_background": "light"
     },
     "output_type": "display_data"
    }
   ],
   "source": [
    "# Comparing runtime \n",
    "plt.figure(figsize = (5,5));\n",
    "big_profit.runtime.hist(alpha =0.5 ,label =\"profit\");\n",
    "no_profit.runtime.hist(alpha = 0.5,label= 'no profit');\n",
    "plt.title('Duration Comparison');\n",
    "plt.legend();\n",
    "print(big_profit.runtime.mean(),no_profit.runtime.mean())\n"
   ]
  },
  {
   "cell_type": "markdown",
   "metadata": {},
   "source": [
    "Apparently, the duration of the movie doesn't play a major role in determining the success of it"
   ]
  },
  {
   "cell_type": "markdown",
   "metadata": {},
   "source": [
    "### Limitations\n",
    "No exploration done on cast and keywords\n",
    "## Conclusions\n",
    "\n",
    "> We can see that there has been an increase in the productin of movies in recent years.\n",
    "> Unlike movies from this century, the majory of the movies from last century were successful.\n",
    "> A good marketing of the movie plays a huge role in the success of the movie (according to the popularity of the movies).\n",
    "> The most popular movie of all time is Jurrassic world.\n",
    "> Movies with the genre of drama have a high share of the genres of all movies.\n",
    "> James Cameron is the director of the movie with the highest revenue.\n",
    "\n"
   ]
  },
  {
   "cell_type": "code",
   "execution_count": null,
   "metadata": {},
   "outputs": [],
   "source": []
  }
 ],
 "metadata": {
  "kernelspec": {
   "display_name": "Python 3",
   "language": "python",
   "name": "python3"
  },
  "language_info": {
   "codemirror_mode": {
    "name": "ipython",
    "version": 3
   },
   "file_extension": ".py",
   "mimetype": "text/x-python",
   "name": "python",
   "nbconvert_exporter": "python",
   "pygments_lexer": "ipython3",
   "version": "3.8.5"
  }
 },
 "nbformat": 4,
 "nbformat_minor": 4
}
